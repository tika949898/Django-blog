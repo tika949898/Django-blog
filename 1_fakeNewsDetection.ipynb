{
  "nbformat": 4,
  "nbformat_minor": 0,
  "metadata": {
    "colab": {
      "provenance": [],
      "include_colab_link": true
    },
    "kernelspec": {
      "name": "python3",
      "display_name": "Python 3"
    },
    "language_info": {
      "name": "python"
    }
  },
  "cells": [
    {
      "cell_type": "markdown",
      "metadata": {
        "id": "view-in-github",
        "colab_type": "text"
      },
      "source": [
        "<a href=\"https://colab.research.google.com/github/tika949898/Django-blog/blob/master/1_fakeNewsDetection.ipynb\" target=\"_parent\"><img src=\"https://colab.research.google.com/assets/colab-badge.svg\" alt=\"Open In Colab\"/></a>"
      ]
    },
    {
      "cell_type": "markdown",
      "source": [
        "Google drive mount"
      ],
      "metadata": {
        "id": "TGNpTiasrLJH"
      }
    },
    {
      "cell_type": "code",
      "source": [
        "from google.colab import drive\n",
        "drive.mount('/content/drive')"
      ],
      "metadata": {
        "colab": {
          "base_uri": "https://localhost:8080/"
        },
        "id": "sZ9TmWDUKa52",
        "outputId": "07a87353-17fc-4811-a793-5be58d8d2622"
      },
      "execution_count": null,
      "outputs": [
        {
          "output_type": "stream",
          "name": "stdout",
          "text": [
            "Mounted at /content/drive\n"
          ]
        }
      ]
    },
    {
      "cell_type": "markdown",
      "source": [
        "Import python libraries"
      ],
      "metadata": {
        "id": "L7OqzvwQLGen"
      }
    },
    {
      "cell_type": "code",
      "source": [
        "import pandas as pd\n",
        "import numpy as np\n",
        "import seaborn as sns\n",
        "import matplotlib.pyplot as plt\n",
        "from sklearn.model_selection import train_test_split\n",
        "from sklearn.metrics import classification_report\n",
        "import re\n",
        "import string\n",
        "from sklearn.feature_extraction.text import TfidfVectorizer\n",
        "from sklearn.linear_model import LogisticRegression\n",
        "from sklearn.tree import DecisionTreeClassifier\n",
        "from sklearn.ensemble import GradientBoostingClassifier\n",
        "from sklearn.ensemble import RandomForestClassifier\n"
      ],
      "metadata": {
        "id": "_B3M_CTasYd0"
      },
      "execution_count": null,
      "outputs": []
    },
    {
      "cell_type": "markdown",
      "source": [
        "Import the csv file"
      ],
      "metadata": {
        "id": "XSCY1c7jsE9I"
      }
    },
    {
      "cell_type": "code",
      "source": [
        "dataframe_fake = pd.red_csv(\"Fake.csv\")\n",
        "dataframe_true=pd.read._csv(\"True.csv\")\n",
        "dataframe_fake.drop(dataframe_fake.tail(10).index, inplace=True)\n",
        "dataframe_true.drop(dataframe_true.tail(10).index, inplace=True)\n",
        "# Add 'class' column to indicate fake (0) or true (1)\n",
        "dataframe_fake[\"class\"] = 0\n",
        "dataframe_true[\"class\"] = 1\n"
      ],
      "metadata": {
        "id": "zyz2RxOubR__"
      },
      "execution_count": null,
      "outputs": []
    },
    {
      "cell_type": "markdown",
      "source": [
        "Menual testing"
      ],
      "metadata": {
        "id": "x2SVhjaiZuvj"
      }
    },
    {
      "cell_type": "code",
      "source": [
        "dataframe_fake_manual_testing = dataframe_fake.tail(10).copy()\n",
        "dataframe_true_manual_testing = dataframe_true.tail(10).copy()\n",
        "dataframe_fake_manual_testing[\"class\"] = 0\n",
        "dataframe_true_manual_testing[\"class\"] = 1\n",
        "\n"
      ],
      "metadata": {
        "id": "XGFfVmxRafop"
      },
      "execution_count": null,
      "outputs": []
    },
    {
      "cell_type": "markdown",
      "source": [
        "Murge between two column"
      ],
      "metadata": {
        "id": "j1B13IgQbr7N"
      }
    },
    {
      "cell_type": "code",
      "source": [
        "dataframe_merge = pd.concat([dataframe_fake, dataframe_true], axis=0)"
      ],
      "metadata": {
        "id": "m73XGBFBcBTo"
      },
      "execution_count": null,
      "outputs": []
    },
    {
      "cell_type": "markdown",
      "source": [
        "Drop the columns"
      ],
      "metadata": {
        "id": "udJyZHMjcwNs"
      }
    },
    {
      "cell_type": "code",
      "source": [
        "dataframe = dataframe_merge.drop([\"title\", \"subject\", \"date\"], axis=1)"
      ],
      "metadata": {
        "id": "zwEPuGSYd442",
        "colab": {
          "base_uri": "https://localhost:8080/",
          "height": 176
        },
        "outputId": "95c65104-649a-4395-b71d-4503e79a3247"
      },
      "execution_count": 1,
      "outputs": [
        {
          "output_type": "error",
          "ename": "NameError",
          "evalue": "name 'dataframe_merge' is not defined",
          "traceback": [
            "\u001b[0;31m---------------------------------------------------------------------------\u001b[0m",
            "\u001b[0;31mNameError\u001b[0m                                 Traceback (most recent call last)",
            "\u001b[0;32m<ipython-input-1-539131339b1a>\u001b[0m in \u001b[0;36m<cell line: 1>\u001b[0;34m()\u001b[0m\n\u001b[0;32m----> 1\u001b[0;31m \u001b[0mdataframe\u001b[0m \u001b[0;34m=\u001b[0m \u001b[0mdataframe_merge\u001b[0m\u001b[0;34m.\u001b[0m\u001b[0mdrop\u001b[0m\u001b[0;34m(\u001b[0m\u001b[0;34m[\u001b[0m\u001b[0;34m\"title\"\u001b[0m\u001b[0;34m,\u001b[0m \u001b[0;34m\"subject\"\u001b[0m\u001b[0;34m,\u001b[0m \u001b[0;34m\"date\"\u001b[0m\u001b[0;34m]\u001b[0m\u001b[0;34m,\u001b[0m \u001b[0maxis\u001b[0m\u001b[0;34m=\u001b[0m\u001b[0;36m1\u001b[0m\u001b[0;34m)\u001b[0m\u001b[0;34m\u001b[0m\u001b[0;34m\u001b[0m\u001b[0m\n\u001b[0m",
            "\u001b[0;31mNameError\u001b[0m: name 'dataframe_merge' is not defined"
          ]
        }
      ]
    }
  ]
}